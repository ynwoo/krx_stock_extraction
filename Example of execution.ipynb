{
 "cells": [
  {
   "cell_type": "markdown",
   "id": "3eaaf2c3",
   "metadata": {},
   "source": [
    "# 1. 주식 종목 수집 및 DB에 저장 (from KRX)"
   ]
  },
  {
   "cell_type": "code",
   "execution_count": 1,
   "id": "75334485",
   "metadata": {},
   "outputs": [],
   "source": [
    "# krx_stock_extraction.py 파일의 클래스 객체를 불러옴\n",
    "from krx_stock_extraction import kse"
   ]
  },
  {
   "cell_type": "markdown",
   "id": "24eda018",
   "metadata": {},
   "source": [
    "### 지정한 기간의 KRX 가격 반환"
   ]
  },
  {
   "cell_type": "code",
   "execution_count": 2,
   "id": "14a81370",
   "metadata": {},
   "outputs": [],
   "source": [
    "pr_df = kse.getKRXPrice('STK', '20220602', '20220603')"
   ]
  },
  {
   "cell_type": "code",
   "execution_count": 3,
   "id": "b5240abc",
   "metadata": {},
   "outputs": [
    {
     "data": {
      "text/html": [
       "<div>\n",
       "<style scoped>\n",
       "    .dataframe tbody tr th:only-of-type {\n",
       "        vertical-align: middle;\n",
       "    }\n",
       "\n",
       "    .dataframe tbody tr th {\n",
       "        vertical-align: top;\n",
       "    }\n",
       "\n",
       "    .dataframe thead th {\n",
       "        text-align: right;\n",
       "    }\n",
       "</style>\n",
       "<table border=\"1\" class=\"dataframe\">\n",
       "  <thead>\n",
       "    <tr style=\"text-align: right;\">\n",
       "      <th></th>\n",
       "      <th>stock_code</th>\n",
       "      <th>stock_name</th>\n",
       "      <th>date</th>\n",
       "      <th>open</th>\n",
       "      <th>high</th>\n",
       "      <th>low</th>\n",
       "      <th>close</th>\n",
       "      <th>volume</th>\n",
       "      <th>change</th>\n",
       "      <th>ACC_TRDVAL</th>\n",
       "      <th>MKTCAP</th>\n",
       "      <th>LIST_SHRS</th>\n",
       "    </tr>\n",
       "  </thead>\n",
       "  <tbody>\n",
       "    <tr>\n",
       "      <th>0</th>\n",
       "      <td>095570</td>\n",
       "      <td>AJ네트웍스</td>\n",
       "      <td>2022-06-02</td>\n",
       "      <td>7000</td>\n",
       "      <td>7700</td>\n",
       "      <td>6870</td>\n",
       "      <td>7150</td>\n",
       "      <td>2505375</td>\n",
       "      <td>0.0258</td>\n",
       "      <td>18649803910</td>\n",
       "      <td>334779409250</td>\n",
       "      <td>46822295</td>\n",
       "    </tr>\n",
       "    <tr>\n",
       "      <th>1</th>\n",
       "      <td>000227</td>\n",
       "      <td>유유제약2우B</td>\n",
       "      <td>2022-06-02</td>\n",
       "      <td>21050</td>\n",
       "      <td>22000</td>\n",
       "      <td>20600</td>\n",
       "      <td>20600</td>\n",
       "      <td>15465</td>\n",
       "      <td>-0.0762</td>\n",
       "      <td>325602700</td>\n",
       "      <td>6706536000</td>\n",
       "      <td>325560</td>\n",
       "    </tr>\n",
       "    <tr>\n",
       "      <th>2</th>\n",
       "      <td>001200</td>\n",
       "      <td>유진투자증권</td>\n",
       "      <td>2022-06-02</td>\n",
       "      <td>3280</td>\n",
       "      <td>3300</td>\n",
       "      <td>3235</td>\n",
       "      <td>3260</td>\n",
       "      <td>94242</td>\n",
       "      <td>-0.0121</td>\n",
       "      <td>307106625</td>\n",
       "      <td>315784522680</td>\n",
       "      <td>96866418</td>\n",
       "    </tr>\n",
       "    <tr>\n",
       "      <th>3</th>\n",
       "      <td>000100</td>\n",
       "      <td>유한양행</td>\n",
       "      <td>2022-06-02</td>\n",
       "      <td>59500</td>\n",
       "      <td>60000</td>\n",
       "      <td>59100</td>\n",
       "      <td>59600</td>\n",
       "      <td>117011</td>\n",
       "      <td>-0.0132</td>\n",
       "      <td>6958390800</td>\n",
       "      <td>4364595969600</td>\n",
       "      <td>73231476</td>\n",
       "    </tr>\n",
       "    <tr>\n",
       "      <th>4</th>\n",
       "      <td>000105</td>\n",
       "      <td>유한양행우</td>\n",
       "      <td>2022-06-02</td>\n",
       "      <td>57800</td>\n",
       "      <td>58000</td>\n",
       "      <td>57100</td>\n",
       "      <td>57700</td>\n",
       "      <td>675</td>\n",
       "      <td>-0.0017</td>\n",
       "      <td>38865800</td>\n",
       "      <td>68140238000</td>\n",
       "      <td>1180940</td>\n",
       "    </tr>\n",
       "    <tr>\n",
       "      <th>...</th>\n",
       "      <td>...</td>\n",
       "      <td>...</td>\n",
       "      <td>...</td>\n",
       "      <td>...</td>\n",
       "      <td>...</td>\n",
       "      <td>...</td>\n",
       "      <td>...</td>\n",
       "      <td>...</td>\n",
       "      <td>...</td>\n",
       "      <td>...</td>\n",
       "      <td>...</td>\n",
       "      <td>...</td>\n",
       "    </tr>\n",
       "    <tr>\n",
       "      <th>1877</th>\n",
       "      <td>006040</td>\n",
       "      <td>동원산업</td>\n",
       "      <td>2022-06-03</td>\n",
       "      <td>238500</td>\n",
       "      <td>239500</td>\n",
       "      <td>236000</td>\n",
       "      <td>237000</td>\n",
       "      <td>2737</td>\n",
       "      <td>-0.0042</td>\n",
       "      <td>648648500</td>\n",
       "      <td>871600917000</td>\n",
       "      <td>3677641</td>\n",
       "    </tr>\n",
       "    <tr>\n",
       "      <th>1878</th>\n",
       "      <td>030720</td>\n",
       "      <td>동원수산</td>\n",
       "      <td>2022-06-03</td>\n",
       "      <td>12300</td>\n",
       "      <td>12400</td>\n",
       "      <td>12100</td>\n",
       "      <td>12100</td>\n",
       "      <td>42659</td>\n",
       "      <td>-0.0163</td>\n",
       "      <td>521269450</td>\n",
       "      <td>56311040500</td>\n",
       "      <td>4653805</td>\n",
       "    </tr>\n",
       "    <tr>\n",
       "      <th>1879</th>\n",
       "      <td>014820</td>\n",
       "      <td>동원시스템즈</td>\n",
       "      <td>2022-06-03</td>\n",
       "      <td>55300</td>\n",
       "      <td>55400</td>\n",
       "      <td>54600</td>\n",
       "      <td>55200</td>\n",
       "      <td>16397</td>\n",
       "      <td>0.0110</td>\n",
       "      <td>902562100</td>\n",
       "      <td>1611200287200</td>\n",
       "      <td>29188411</td>\n",
       "    </tr>\n",
       "    <tr>\n",
       "      <th>1880</th>\n",
       "      <td>001520</td>\n",
       "      <td>동양</td>\n",
       "      <td>2022-06-03</td>\n",
       "      <td>1385</td>\n",
       "      <td>1405</td>\n",
       "      <td>1375</td>\n",
       "      <td>1390</td>\n",
       "      <td>291347</td>\n",
       "      <td>0.0072</td>\n",
       "      <td>404029790</td>\n",
       "      <td>331770847570</td>\n",
       "      <td>238684063</td>\n",
       "    </tr>\n",
       "    <tr>\n",
       "      <th>1881</th>\n",
       "      <td>003280</td>\n",
       "      <td>흥아해운</td>\n",
       "      <td>2022-06-03</td>\n",
       "      <td>2940</td>\n",
       "      <td>2985</td>\n",
       "      <td>2915</td>\n",
       "      <td>2935</td>\n",
       "      <td>241761</td>\n",
       "      <td>0.0017</td>\n",
       "      <td>710890795</td>\n",
       "      <td>705647078565</td>\n",
       "      <td>240424899</td>\n",
       "    </tr>\n",
       "  </tbody>\n",
       "</table>\n",
       "<p>1882 rows × 12 columns</p>\n",
       "</div>"
      ],
      "text/plain": [
       "     stock_code stock_name        date    open    high     low   close  \\\n",
       "0        095570     AJ네트웍스  2022-06-02    7000    7700    6870    7150   \n",
       "1        000227    유유제약2우B  2022-06-02   21050   22000   20600   20600   \n",
       "2        001200     유진투자증권  2022-06-02    3280    3300    3235    3260   \n",
       "3        000100       유한양행  2022-06-02   59500   60000   59100   59600   \n",
       "4        000105      유한양행우  2022-06-02   57800   58000   57100   57700   \n",
       "...         ...        ...         ...     ...     ...     ...     ...   \n",
       "1877     006040       동원산업  2022-06-03  238500  239500  236000  237000   \n",
       "1878     030720       동원수산  2022-06-03   12300   12400   12100   12100   \n",
       "1879     014820     동원시스템즈  2022-06-03   55300   55400   54600   55200   \n",
       "1880     001520         동양  2022-06-03    1385    1405    1375    1390   \n",
       "1881     003280       흥아해운  2022-06-03    2940    2985    2915    2935   \n",
       "\n",
       "       volume  change   ACC_TRDVAL         MKTCAP  LIST_SHRS  \n",
       "0     2505375  0.0258  18649803910   334779409250   46822295  \n",
       "1       15465 -0.0762    325602700     6706536000     325560  \n",
       "2       94242 -0.0121    307106625   315784522680   96866418  \n",
       "3      117011 -0.0132   6958390800  4364595969600   73231476  \n",
       "4         675 -0.0017     38865800    68140238000    1180940  \n",
       "...       ...     ...          ...            ...        ...  \n",
       "1877     2737 -0.0042    648648500   871600917000    3677641  \n",
       "1878    42659 -0.0163    521269450    56311040500    4653805  \n",
       "1879    16397  0.0110    902562100  1611200287200   29188411  \n",
       "1880   291347  0.0072    404029790   331770847570  238684063  \n",
       "1881   241761  0.0017    710890795   705647078565  240424899  \n",
       "\n",
       "[1882 rows x 12 columns]"
      ]
     },
     "execution_count": 3,
     "metadata": {},
     "output_type": "execute_result"
    }
   ],
   "source": [
    "pr_df"
   ]
  },
  {
   "cell_type": "markdown",
   "id": "5a9b22e8",
   "metadata": {},
   "source": [
    "### db에 저장"
   ]
  },
  {
   "cell_type": "code",
   "execution_count": 2,
   "id": "3905c708",
   "metadata": {},
   "outputs": [],
   "source": [
    "server = '127.0.0.1:3307' # local server\n",
    "user = 'root' # user name\n",
    "password = '     ' # 개인 password\n",
    "db = 'krx_price' # DB 이름"
   ]
  },
  {
   "cell_type": "code",
   "execution_count": 5,
   "id": "c50e1323",
   "metadata": {},
   "outputs": [],
   "source": [
    "kse.saveKRXPrice(pr_df, 'kospi', server, user, password, db)"
   ]
  },
  {
   "cell_type": "markdown",
   "id": "72a118ef",
   "metadata": {},
   "source": [
    "# 2. 수정주가 수집 및 DB에 저장 (from FDR)"
   ]
  },
  {
   "cell_type": "markdown",
   "id": "0a780433",
   "metadata": {},
   "source": [
    "### 수정주가 데이터 수집"
   ]
  },
  {
   "cell_type": "code",
   "execution_count": 3,
   "id": "c6f076dc",
   "metadata": {},
   "outputs": [
    {
     "name": "stderr",
     "output_type": "stream",
     "text": [
      "100%|████████████████████████████████████████████████████████████████████████████████| 120/120 [00:08<00:00, 13.85it/s]\n"
     ]
    }
   ],
   "source": [
    "data = kse.get_adjusted_KRXPrice('konex', '2017-06-01', '2022-05-31')"
   ]
  },
  {
   "cell_type": "markdown",
   "id": "9c332e49",
   "metadata": {},
   "source": [
    "### db에 저장"
   ]
  },
  {
   "cell_type": "code",
   "execution_count": 12,
   "id": "6da5fd49",
   "metadata": {},
   "outputs": [],
   "source": [
    "kse.save_adjusted_KRXPrice(data, 'konex', server, user, password, db)"
   ]
  },
  {
   "cell_type": "markdown",
   "id": "5f16bdcb",
   "metadata": {},
   "source": [
    "# 3. 재무제표 수집 및 DB에 저장 (from FnGuide)"
   ]
  },
  {
   "cell_type": "code",
   "execution_count": 3,
   "id": "4e974fd7",
   "metadata": {},
   "outputs": [],
   "source": [
    "from tqdm import tqdm"
   ]
  },
  {
   "cell_type": "code",
   "execution_count": 4,
   "id": "fc265719",
   "metadata": {},
   "outputs": [
    {
     "name": "stderr",
     "output_type": "stream",
     "text": [
      "100%|████████████████████████████████████████████████████████████████████████████| 2499/2499 [2:10:35<00:00,  3.14s/it]\n"
     ]
    }
   ],
   "source": [
    "stock_list = kse.read_krx_code()\n",
    "\n",
    "for stock in tqdm(stock_list):\n",
    "    data = kse.getIS(stock, 'CONSOLIDATED', 'Q')\n",
    "    kse.save_financial_statement(data, 'is', 'consolidated', 'q', server, user, password, db)\n",
    "    \n",
    "    data = kse.getBS(stock, 'CONSOLIDATED', 'Q')\n",
    "    kse.save_financial_statement(data, 'bs', 'consolidated', 'q', server, user, password, db)\n",
    "    \n",
    "    data = kse.getCF(stock, 'CONSOLIDATED', 'Q')\n",
    "    kse.save_financial_statement(data, 'cf', 'consolidated', 'q', server, user, password, db)"
   ]
  },
  {
   "cell_type": "code",
   "execution_count": 4,
   "id": "139d7493",
   "metadata": {},
   "outputs": [
    {
     "name": "stdout",
     "output_type": "stream",
     "text": [
      "096300\n"
     ]
    }
   ],
   "source": [
    "data = kse.getCF('096300', 'CONSOLIDATED', 'Q')\n",
    "kse.save_financial_statement(data, 'cf', 'consolidated', 'q', server, user, password, db)"
   ]
  },
  {
   "cell_type": "code",
   "execution_count": 5,
   "id": "1a61451c",
   "metadata": {},
   "outputs": [
    {
     "name": "stderr",
     "output_type": "stream",
     "text": [
      "100%|██████████████████████████████████████████████████████████████████████████████| 2499/2499 [40:50<00:00,  1.02it/s]\n"
     ]
    }
   ],
   "source": [
    "for stock in tqdm(stock_list):\n",
    "    data = kse.getCF(stock, 'CONSOLIDATED', 'Q')\n",
    "    kse.save_financial_statement(data, 'cf', 'consolidated', 'q', server, user, password, db)"
   ]
  },
  {
   "cell_type": "markdown",
   "id": "0d913a60",
   "metadata": {},
   "source": [
    "# 4. db에서 데이터 불러오기"
   ]
  },
  {
   "cell_type": "markdown",
   "id": "e4962f00",
   "metadata": {},
   "source": [
    "### 수정주가 데이터 불러오기"
   ]
  },
  {
   "cell_type": "code",
   "execution_count": 2,
   "id": "1361e026",
   "metadata": {},
   "outputs": [],
   "source": [
    "term = '2022/1'"
   ]
  },
  {
   "cell_type": "code",
   "execution_count": 3,
   "id": "5c42bf0e",
   "metadata": {},
   "outputs": [],
   "source": [
    "server = '127.0.0.1' # local server\n",
    "port = 3307\n",
    "user = 'root' # user name\n",
    "password = '      ' # 개인 password\n",
    "db = 'krx_price' # DB 이름"
   ]
  },
  {
   "cell_type": "code",
   "execution_count": 4,
   "id": "9632d7a4",
   "metadata": {},
   "outputs": [
    {
     "name": "stdout",
     "output_type": "stream",
     "text": [
      "start_date(2022-01-01) ~ end_date(2022-03-31)\n"
     ]
    }
   ],
   "source": [
    "data, t = kse.get_price(term, 'kospi', server, port, user, password, db)"
   ]
  },
  {
   "cell_type": "code",
   "execution_count": 5,
   "id": "e70047b0",
   "metadata": {},
   "outputs": [
    {
     "data": {
      "text/html": [
       "<div>\n",
       "<style scoped>\n",
       "    .dataframe tbody tr th:only-of-type {\n",
       "        vertical-align: middle;\n",
       "    }\n",
       "\n",
       "    .dataframe tbody tr th {\n",
       "        vertical-align: top;\n",
       "    }\n",
       "\n",
       "    .dataframe thead th {\n",
       "        text-align: right;\n",
       "    }\n",
       "</style>\n",
       "<table border=\"1\" class=\"dataframe\">\n",
       "  <thead>\n",
       "    <tr style=\"text-align: right;\">\n",
       "      <th></th>\n",
       "      <th>stock_code</th>\n",
       "      <th>period</th>\n",
       "      <th>open</th>\n",
       "      <th>high</th>\n",
       "      <th>low</th>\n",
       "      <th>close</th>\n",
       "      <th>volume</th>\n",
       "      <th>시가총액</th>\n",
       "      <th>상장주식수</th>\n",
       "    </tr>\n",
       "  </thead>\n",
       "  <tbody>\n",
       "    <tr>\n",
       "      <th>0</th>\n",
       "      <td>000020</td>\n",
       "      <td>2022/03</td>\n",
       "      <td>14800.0</td>\n",
       "      <td>15350.0</td>\n",
       "      <td>11250.0</td>\n",
       "      <td>13650.0</td>\n",
       "      <td>214548.0</td>\n",
       "      <td>3.812646e+11</td>\n",
       "      <td>27931470.0</td>\n",
       "    </tr>\n",
       "    <tr>\n",
       "      <th>1</th>\n",
       "      <td>000040</td>\n",
       "      <td>2022/03</td>\n",
       "      <td>867.0</td>\n",
       "      <td>1045.0</td>\n",
       "      <td>720.0</td>\n",
       "      <td>889.0</td>\n",
       "      <td>417614.0</td>\n",
       "      <td>8.546612e+10</td>\n",
       "      <td>96137368.0</td>\n",
       "    </tr>\n",
       "    <tr>\n",
       "      <th>2</th>\n",
       "      <td>000050</td>\n",
       "      <td>2022/03</td>\n",
       "      <td>13750.0</td>\n",
       "      <td>16000.0</td>\n",
       "      <td>13400.0</td>\n",
       "      <td>15950.0</td>\n",
       "      <td>42169.0</td>\n",
       "      <td>4.372736e+11</td>\n",
       "      <td>27415270.0</td>\n",
       "    </tr>\n",
       "    <tr>\n",
       "      <th>3</th>\n",
       "      <td>000060</td>\n",
       "      <td>2022/03</td>\n",
       "      <td>33300.0</td>\n",
       "      <td>53500.0</td>\n",
       "      <td>33300.0</td>\n",
       "      <td>47450.0</td>\n",
       "      <td>298202.0</td>\n",
       "      <td>5.723656e+12</td>\n",
       "      <td>120625000.0</td>\n",
       "    </tr>\n",
       "    <tr>\n",
       "      <th>4</th>\n",
       "      <td>000070</td>\n",
       "      <td>2022/03</td>\n",
       "      <td>98300.0</td>\n",
       "      <td>99000.0</td>\n",
       "      <td>79900.0</td>\n",
       "      <td>86100.0</td>\n",
       "      <td>13667.0</td>\n",
       "      <td>7.373837e+11</td>\n",
       "      <td>8564271.0</td>\n",
       "    </tr>\n",
       "    <tr>\n",
       "      <th>...</th>\n",
       "      <td>...</td>\n",
       "      <td>...</td>\n",
       "      <td>...</td>\n",
       "      <td>...</td>\n",
       "      <td>...</td>\n",
       "      <td>...</td>\n",
       "      <td>...</td>\n",
       "      <td>...</td>\n",
       "      <td>...</td>\n",
       "    </tr>\n",
       "    <tr>\n",
       "      <th>778</th>\n",
       "      <td>402340</td>\n",
       "      <td>2022/03</td>\n",
       "      <td>66900.0</td>\n",
       "      <td>70500.0</td>\n",
       "      <td>49050.0</td>\n",
       "      <td>56800.0</td>\n",
       "      <td>635073.0</td>\n",
       "      <td>8.035358e+12</td>\n",
       "      <td>141467571.0</td>\n",
       "    </tr>\n",
       "    <tr>\n",
       "      <th>779</th>\n",
       "      <td>404990</td>\n",
       "      <td>2022/03</td>\n",
       "      <td>5000.0</td>\n",
       "      <td>5160.0</td>\n",
       "      <td>4705.0</td>\n",
       "      <td>5120.0</td>\n",
       "      <td>410552.0</td>\n",
       "      <td>2.864941e+11</td>\n",
       "      <td>55955884.0</td>\n",
       "    </tr>\n",
       "    <tr>\n",
       "      <th>780</th>\n",
       "      <td>417310</td>\n",
       "      <td>2022/03</td>\n",
       "      <td>5260.0</td>\n",
       "      <td>5590.0</td>\n",
       "      <td>5260.0</td>\n",
       "      <td>5580.0</td>\n",
       "      <td>565297.0</td>\n",
       "      <td>2.254320e+11</td>\n",
       "      <td>40400000.0</td>\n",
       "    </tr>\n",
       "    <tr>\n",
       "      <th>781</th>\n",
       "      <td>900140</td>\n",
       "      <td>2022/03</td>\n",
       "      <td>3740.0</td>\n",
       "      <td>3740.0</td>\n",
       "      <td>3025.0</td>\n",
       "      <td>3415.0</td>\n",
       "      <td>270314.0</td>\n",
       "      <td>3.396398e+11</td>\n",
       "      <td>99455297.0</td>\n",
       "    </tr>\n",
       "    <tr>\n",
       "      <th>782</th>\n",
       "      <td>950210</td>\n",
       "      <td>2022/03</td>\n",
       "      <td>20900.0</td>\n",
       "      <td>22500.0</td>\n",
       "      <td>12850.0</td>\n",
       "      <td>20300.0</td>\n",
       "      <td>511003.0</td>\n",
       "      <td>1.219952e+12</td>\n",
       "      <td>60096155.0</td>\n",
       "    </tr>\n",
       "  </tbody>\n",
       "</table>\n",
       "<p>783 rows × 9 columns</p>\n",
       "</div>"
      ],
      "text/plain": [
       "    stock_code   period     open     high      low    close    volume  \\\n",
       "0       000020  2022/03  14800.0  15350.0  11250.0  13650.0  214548.0   \n",
       "1       000040  2022/03    867.0   1045.0    720.0    889.0  417614.0   \n",
       "2       000050  2022/03  13750.0  16000.0  13400.0  15950.0   42169.0   \n",
       "3       000060  2022/03  33300.0  53500.0  33300.0  47450.0  298202.0   \n",
       "4       000070  2022/03  98300.0  99000.0  79900.0  86100.0   13667.0   \n",
       "..         ...      ...      ...      ...      ...      ...       ...   \n",
       "778     402340  2022/03  66900.0  70500.0  49050.0  56800.0  635073.0   \n",
       "779     404990  2022/03   5000.0   5160.0   4705.0   5120.0  410552.0   \n",
       "780     417310  2022/03   5260.0   5590.0   5260.0   5580.0  565297.0   \n",
       "781     900140  2022/03   3740.0   3740.0   3025.0   3415.0  270314.0   \n",
       "782     950210  2022/03  20900.0  22500.0  12850.0  20300.0  511003.0   \n",
       "\n",
       "             시가총액        상장주식수  \n",
       "0    3.812646e+11   27931470.0  \n",
       "1    8.546612e+10   96137368.0  \n",
       "2    4.372736e+11   27415270.0  \n",
       "3    5.723656e+12  120625000.0  \n",
       "4    7.373837e+11    8564271.0  \n",
       "..            ...          ...  \n",
       "778  8.035358e+12  141467571.0  \n",
       "779  2.864941e+11   55955884.0  \n",
       "780  2.254320e+11   40400000.0  \n",
       "781  3.396398e+11   99455297.0  \n",
       "782  1.219952e+12   60096155.0  \n",
       "\n",
       "[783 rows x 9 columns]"
      ]
     },
     "execution_count": 5,
     "metadata": {},
     "output_type": "execute_result"
    }
   ],
   "source": [
    "data"
   ]
  },
  {
   "cell_type": "code",
   "execution_count": 6,
   "id": "de9062e6",
   "metadata": {},
   "outputs": [
    {
     "data": {
      "text/plain": [
       "'2022/03'"
      ]
     },
     "execution_count": 6,
     "metadata": {},
     "output_type": "execute_result"
    }
   ],
   "source": [
    "t"
   ]
  },
  {
   "cell_type": "markdown",
   "id": "313b31d3",
   "metadata": {},
   "source": [
    "### 종목별 주가데이터 불러오기"
   ]
  },
  {
   "cell_type": "code",
   "execution_count": 4,
   "id": "e9caa527",
   "metadata": {},
   "outputs": [],
   "source": [
    "df = kse.get_price_backtest('005930', '2021/1', 'kospi', server, port, user, password, db)"
   ]
  },
  {
   "cell_type": "code",
   "execution_count": 7,
   "id": "b13b2b21",
   "metadata": {},
   "outputs": [
    {
     "data": {
      "text/html": [
       "<div>\n",
       "<style scoped>\n",
       "    .dataframe tbody tr th:only-of-type {\n",
       "        vertical-align: middle;\n",
       "    }\n",
       "\n",
       "    .dataframe tbody tr th {\n",
       "        vertical-align: top;\n",
       "    }\n",
       "\n",
       "    .dataframe thead th {\n",
       "        text-align: right;\n",
       "    }\n",
       "</style>\n",
       "<table border=\"1\" class=\"dataframe\">\n",
       "  <thead>\n",
       "    <tr style=\"text-align: right;\">\n",
       "      <th></th>\n",
       "      <th>Code</th>\n",
       "      <th>Date</th>\n",
       "      <th>Close</th>\n",
       "    </tr>\n",
       "  </thead>\n",
       "  <tbody>\n",
       "    <tr>\n",
       "      <th>0</th>\n",
       "      <td>005930</td>\n",
       "      <td>2021-01-04</td>\n",
       "      <td>83000</td>\n",
       "    </tr>\n",
       "    <tr>\n",
       "      <th>1</th>\n",
       "      <td>005930</td>\n",
       "      <td>2021-01-05</td>\n",
       "      <td>83900</td>\n",
       "    </tr>\n",
       "    <tr>\n",
       "      <th>2</th>\n",
       "      <td>005930</td>\n",
       "      <td>2021-01-06</td>\n",
       "      <td>82200</td>\n",
       "    </tr>\n",
       "    <tr>\n",
       "      <th>3</th>\n",
       "      <td>005930</td>\n",
       "      <td>2021-01-07</td>\n",
       "      <td>82900</td>\n",
       "    </tr>\n",
       "    <tr>\n",
       "      <th>4</th>\n",
       "      <td>005930</td>\n",
       "      <td>2021-01-08</td>\n",
       "      <td>88800</td>\n",
       "    </tr>\n",
       "    <tr>\n",
       "      <th>...</th>\n",
       "      <td>...</td>\n",
       "      <td>...</td>\n",
       "      <td>...</td>\n",
       "    </tr>\n",
       "    <tr>\n",
       "      <th>241</th>\n",
       "      <td>005930</td>\n",
       "      <td>2020-12-23</td>\n",
       "      <td>73900</td>\n",
       "    </tr>\n",
       "    <tr>\n",
       "      <th>242</th>\n",
       "      <td>005930</td>\n",
       "      <td>2020-12-24</td>\n",
       "      <td>77800</td>\n",
       "    </tr>\n",
       "    <tr>\n",
       "      <th>243</th>\n",
       "      <td>005930</td>\n",
       "      <td>2020-12-28</td>\n",
       "      <td>78700</td>\n",
       "    </tr>\n",
       "    <tr>\n",
       "      <th>244</th>\n",
       "      <td>005930</td>\n",
       "      <td>2020-12-29</td>\n",
       "      <td>78300</td>\n",
       "    </tr>\n",
       "    <tr>\n",
       "      <th>245</th>\n",
       "      <td>005930</td>\n",
       "      <td>2020-12-30</td>\n",
       "      <td>81000</td>\n",
       "    </tr>\n",
       "  </tbody>\n",
       "</table>\n",
       "<p>246 rows × 3 columns</p>\n",
       "</div>"
      ],
      "text/plain": [
       "       Code        Date  Close\n",
       "0    005930  2021-01-04  83000\n",
       "1    005930  2021-01-05  83900\n",
       "2    005930  2021-01-06  82200\n",
       "3    005930  2021-01-07  82900\n",
       "4    005930  2021-01-08  88800\n",
       "..      ...         ...    ...\n",
       "241  005930  2020-12-23  73900\n",
       "242  005930  2020-12-24  77800\n",
       "243  005930  2020-12-28  78700\n",
       "244  005930  2020-12-29  78300\n",
       "245  005930  2020-12-30  81000\n",
       "\n",
       "[246 rows x 3 columns]"
      ]
     },
     "execution_count": 7,
     "metadata": {},
     "output_type": "execute_result"
    }
   ],
   "source": [
    "df"
   ]
  },
  {
   "cell_type": "markdown",
   "id": "1830fd8a",
   "metadata": {},
   "source": [
    "###  포괄손익계산서 db로부터 불러오기"
   ]
  },
  {
   "cell_type": "code",
   "execution_count": 18,
   "id": "9bcccae1",
   "metadata": {},
   "outputs": [],
   "source": [
    "is_data = kse.get_is_from_db('005930', '2022/03', server, port, user, password, db)"
   ]
  },
  {
   "cell_type": "code",
   "execution_count": 19,
   "id": "36f3016e",
   "metadata": {},
   "outputs": [
    {
     "data": {
      "text/html": [
       "<div>\n",
       "<style scoped>\n",
       "    .dataframe tbody tr th:only-of-type {\n",
       "        vertical-align: middle;\n",
       "    }\n",
       "\n",
       "    .dataframe tbody tr th {\n",
       "        vertical-align: top;\n",
       "    }\n",
       "\n",
       "    .dataframe thead th {\n",
       "        text-align: right;\n",
       "    }\n",
       "</style>\n",
       "<table border=\"1\" class=\"dataframe\">\n",
       "  <thead>\n",
       "    <tr style=\"text-align: right;\">\n",
       "      <th></th>\n",
       "      <th>stock_code</th>\n",
       "      <th>period</th>\n",
       "      <th>rpt_type</th>\n",
       "      <th>매출액</th>\n",
       "      <th>매출원가</th>\n",
       "      <th>매출총이익</th>\n",
       "      <th>판매비와 관리비</th>\n",
       "      <th>영업이익</th>\n",
       "      <th>금융이익</th>\n",
       "      <th>금융원가</th>\n",
       "      <th>기타수익</th>\n",
       "      <th>기타비용</th>\n",
       "      <th>종속기업,공동지배기업및관계기업관련손익</th>\n",
       "      <th>세전계속사업이익</th>\n",
       "      <th>법인세비용</th>\n",
       "      <th>계속영업이익</th>\n",
       "      <th>중단영업이익</th>\n",
       "      <th>당기순이익</th>\n",
       "    </tr>\n",
       "  </thead>\n",
       "  <tbody>\n",
       "    <tr>\n",
       "      <th>0</th>\n",
       "      <td>005930</td>\n",
       "      <td>2022/03</td>\n",
       "      <td>CONSOLIDATED_Q</td>\n",
       "      <td>777814.98</td>\n",
       "      <td>470720.57</td>\n",
       "      <td>307094.41</td>\n",
       "      <td>165880.32</td>\n",
       "      <td>141214.09</td>\n",
       "      <td>35021.89</td>\n",
       "      <td>30333.18</td>\n",
       "      <td>7001.93</td>\n",
       "      <td>4531.1</td>\n",
       "      <td>2324.77</td>\n",
       "      <td>150698.4</td>\n",
       "      <td>37452.12</td>\n",
       "      <td>113246.28</td>\n",
       "      <td>0</td>\n",
       "      <td>113246.28</td>\n",
       "    </tr>\n",
       "  </tbody>\n",
       "</table>\n",
       "</div>"
      ],
      "text/plain": [
       "  stock_code   period        rpt_type        매출액       매출원가      매출총이익  \\\n",
       "0     005930  2022/03  CONSOLIDATED_Q  777814.98  470720.57  307094.41   \n",
       "\n",
       "    판매비와 관리비       영업이익      금융이익      금융원가     기타수익    기타비용  \\\n",
       "0  165880.32  141214.09  35021.89  30333.18  7001.93  4531.1   \n",
       "\n",
       "   종속기업,공동지배기업및관계기업관련손익  세전계속사업이익     법인세비용     계속영업이익  중단영업이익      당기순이익  \n",
       "0               2324.77  150698.4  37452.12  113246.28       0  113246.28  "
      ]
     },
     "execution_count": 19,
     "metadata": {},
     "output_type": "execute_result"
    }
   ],
   "source": [
    "is_data"
   ]
  },
  {
   "cell_type": "markdown",
   "id": "2e6ad97e",
   "metadata": {},
   "source": [
    "### 재무상태표 db로부터 불러오기"
   ]
  },
  {
   "cell_type": "code",
   "execution_count": 20,
   "id": "98ac3f60",
   "metadata": {},
   "outputs": [],
   "source": [
    "bs_data = kse.get_bs_from_db('005930', '2022/03', server, port, user, password, db)"
   ]
  },
  {
   "cell_type": "code",
   "execution_count": 21,
   "id": "b0c1958d",
   "metadata": {},
   "outputs": [
    {
     "data": {
      "text/html": [
       "<div>\n",
       "<style scoped>\n",
       "    .dataframe tbody tr th:only-of-type {\n",
       "        vertical-align: middle;\n",
       "    }\n",
       "\n",
       "    .dataframe tbody tr th {\n",
       "        vertical-align: top;\n",
       "    }\n",
       "\n",
       "    .dataframe thead th {\n",
       "        text-align: right;\n",
       "    }\n",
       "</style>\n",
       "<table border=\"1\" class=\"dataframe\">\n",
       "  <thead>\n",
       "    <tr style=\"text-align: right;\">\n",
       "      <th></th>\n",
       "      <th>stock_code</th>\n",
       "      <th>period</th>\n",
       "      <th>rpt_type</th>\n",
       "      <th>자산</th>\n",
       "      <th>유동자산</th>\n",
       "      <th>비유동자산</th>\n",
       "      <th>부채</th>\n",
       "      <th>유동부채</th>\n",
       "      <th>비유동부채</th>\n",
       "      <th>자본</th>\n",
       "    </tr>\n",
       "  </thead>\n",
       "  <tbody>\n",
       "    <tr>\n",
       "      <th>0</th>\n",
       "      <td>005930</td>\n",
       "      <td>2022/03</td>\n",
       "      <td>CONSOLIDATED_Q</td>\n",
       "      <td>4393269.59</td>\n",
       "      <td>2323690.82</td>\n",
       "      <td>2069578.77</td>\n",
       "      <td>1240360.4</td>\n",
       "      <td>904637.01</td>\n",
       "      <td>335723.39</td>\n",
       "      <td>3152909.19</td>\n",
       "    </tr>\n",
       "  </tbody>\n",
       "</table>\n",
       "</div>"
      ],
      "text/plain": [
       "  stock_code   period        rpt_type          자산        유동자산       비유동자산  \\\n",
       "0     005930  2022/03  CONSOLIDATED_Q  4393269.59  2323690.82  2069578.77   \n",
       "\n",
       "          부채       유동부채      비유동부채          자본  \n",
       "0  1240360.4  904637.01  335723.39  3152909.19  "
      ]
     },
     "execution_count": 21,
     "metadata": {},
     "output_type": "execute_result"
    }
   ],
   "source": [
    "bs_data"
   ]
  },
  {
   "cell_type": "markdown",
   "id": "87431c07",
   "metadata": {},
   "source": [
    "### 현금흐름표 db로부터 불러오기"
   ]
  },
  {
   "cell_type": "code",
   "execution_count": 6,
   "id": "03d4e167",
   "metadata": {},
   "outputs": [],
   "source": [
    "cf_data = kse.get_cf_from_db('005930', '2022/03', server, port, user, password, db)"
   ]
  },
  {
   "cell_type": "code",
   "execution_count": 7,
   "id": "c5b273e0",
   "metadata": {},
   "outputs": [
    {
     "data": {
      "text/html": [
       "<div>\n",
       "<style scoped>\n",
       "    .dataframe tbody tr th:only-of-type {\n",
       "        vertical-align: middle;\n",
       "    }\n",
       "\n",
       "    .dataframe tbody tr th {\n",
       "        vertical-align: top;\n",
       "    }\n",
       "\n",
       "    .dataframe thead th {\n",
       "        text-align: right;\n",
       "    }\n",
       "</style>\n",
       "<table border=\"1\" class=\"dataframe\">\n",
       "  <thead>\n",
       "    <tr style=\"text-align: right;\">\n",
       "      <th></th>\n",
       "      <th>stock_code</th>\n",
       "      <th>period</th>\n",
       "      <th>rpt_type</th>\n",
       "      <th>영업활동으로인한현금흐름</th>\n",
       "      <th>당기순손익</th>\n",
       "      <th>법인세비용차감전계속사업이익</th>\n",
       "      <th>현금유출이없는비용등가산</th>\n",
       "      <th>(현금유입이없는수익등차감)</th>\n",
       "      <th>영업활동으로인한자산부채변동(운전자본변동)</th>\n",
       "      <th>*영업에서창출된현금흐름</th>\n",
       "      <th>...</th>\n",
       "      <th>재무활동으로인한현금흐름</th>\n",
       "      <th>재무활동으로인한현금유입액</th>\n",
       "      <th>(재무활동으로인한현금유출액)</th>\n",
       "      <th>기타재무활동으로인한현금흐름</th>\n",
       "      <th>영업투자재무활동기타현금흐름</th>\n",
       "      <th>연결범위변동으로인한현금의증가</th>\n",
       "      <th>환율변동효과</th>\n",
       "      <th>현금및현금성자산의증가</th>\n",
       "      <th>기초현금및현금성자산</th>\n",
       "      <th>기말현금및현금성자산</th>\n",
       "    </tr>\n",
       "  </thead>\n",
       "  <tbody>\n",
       "    <tr>\n",
       "      <th>0</th>\n",
       "      <td>005930</td>\n",
       "      <td>2022/03</td>\n",
       "      <td>CONSOLIDATED_Q</td>\n",
       "      <td>104530.69</td>\n",
       "      <td>113246.28</td>\n",
       "      <td>0</td>\n",
       "      <td>162029.7</td>\n",
       "      <td>22972.4</td>\n",
       "      <td>-142333.15</td>\n",
       "      <td>109970.43</td>\n",
       "      <td>...</td>\n",
       "      <td>-4953.46</td>\n",
       "      <td>2140.34</td>\n",
       "      <td>7089.19</td>\n",
       "      <td>-4.61</td>\n",
       "      <td>0</td>\n",
       "      <td>0</td>\n",
       "      <td>5923.55</td>\n",
       "      <td>99135.67</td>\n",
       "      <td>390314.15</td>\n",
       "      <td>489449.82</td>\n",
       "    </tr>\n",
       "  </tbody>\n",
       "</table>\n",
       "<p>1 rows × 25 columns</p>\n",
       "</div>"
      ],
      "text/plain": [
       "  stock_code   period        rpt_type  영업활동으로인한현금흐름      당기순손익  \\\n",
       "0     005930  2022/03  CONSOLIDATED_Q     104530.69  113246.28   \n",
       "\n",
       "   법인세비용차감전계속사업이익  현금유출이없는비용등가산  (현금유입이없는수익등차감)  영업활동으로인한자산부채변동(운전자본변동)  \\\n",
       "0               0      162029.7         22972.4              -142333.15   \n",
       "\n",
       "   *영업에서창출된현금흐름  ...  재무활동으로인한현금흐름  재무활동으로인한현금유입액  (재무활동으로인한현금유출액)  \\\n",
       "0     109970.43  ...      -4953.46        2140.34          7089.19   \n",
       "\n",
       "   기타재무활동으로인한현금흐름  영업투자재무활동기타현금흐름  연결범위변동으로인한현금의증가   환율변동효과  현금및현금성자산의증가  \\\n",
       "0           -4.61               0                0  5923.55     99135.67   \n",
       "\n",
       "   기초현금및현금성자산  기말현금및현금성자산  \n",
       "0   390314.15   489449.82  \n",
       "\n",
       "[1 rows x 25 columns]"
      ]
     },
     "execution_count": 7,
     "metadata": {},
     "output_type": "execute_result"
    }
   ],
   "source": [
    "cf_data"
   ]
  },
  {
   "cell_type": "markdown",
   "id": "7cf316a3",
   "metadata": {},
   "source": [
    "### Trailing 데이터 생성"
   ]
  },
  {
   "cell_type": "code",
   "execution_count": 5,
   "id": "42090c7b",
   "metadata": {},
   "outputs": [
    {
     "name": "stdout",
     "output_type": "stream",
     "text": [
      "2022/03 2021/12 2021/09 2021/06 "
     ]
    }
   ],
   "source": [
    "trailing_data = kse.get_trailing('005930', '2022/03', server, port, user, password, db)"
   ]
  },
  {
   "cell_type": "code",
   "execution_count": 6,
   "id": "e6b0acb1",
   "metadata": {},
   "outputs": [
    {
     "data": {
      "text/html": [
       "<div>\n",
       "<style scoped>\n",
       "    .dataframe tbody tr th:only-of-type {\n",
       "        vertical-align: middle;\n",
       "    }\n",
       "\n",
       "    .dataframe tbody tr th {\n",
       "        vertical-align: top;\n",
       "    }\n",
       "\n",
       "    .dataframe thead th {\n",
       "        text-align: right;\n",
       "    }\n",
       "</style>\n",
       "<table border=\"1\" class=\"dataframe\">\n",
       "  <thead>\n",
       "    <tr style=\"text-align: right;\">\n",
       "      <th></th>\n",
       "      <th>stock_code</th>\n",
       "      <th>period</th>\n",
       "      <th>rpt_type</th>\n",
       "      <th>매출액</th>\n",
       "      <th>매출원가</th>\n",
       "      <th>매출총이익</th>\n",
       "      <th>판매비와 관리비</th>\n",
       "      <th>영업이익</th>\n",
       "      <th>금융이익</th>\n",
       "      <th>금융원가</th>\n",
       "      <th>...</th>\n",
       "      <th>재무활동으로인한현금흐름</th>\n",
       "      <th>재무활동으로인한현금유입액</th>\n",
       "      <th>(재무활동으로인한현금유출액)</th>\n",
       "      <th>기타재무활동으로인한현금흐름</th>\n",
       "      <th>영업투자재무활동기타현금흐름</th>\n",
       "      <th>연결범위변동으로인한현금의증가</th>\n",
       "      <th>환율변동효과</th>\n",
       "      <th>현금및현금성자산의증가</th>\n",
       "      <th>기초현금및현금성자산</th>\n",
       "      <th>기말현금및현금성자산</th>\n",
       "    </tr>\n",
       "  </thead>\n",
       "  <tbody>\n",
       "    <tr>\n",
       "      <th>0</th>\n",
       "      <td>005930</td>\n",
       "      <td>2022/03</td>\n",
       "      <td>CONSOLIDATED_Q</td>\n",
       "      <td>2919977.94</td>\n",
       "      <td>1719834.14</td>\n",
       "      <td>1200143.8</td>\n",
       "      <td>636419.83</td>\n",
       "      <td>563723.97</td>\n",
       "      <td>98067.38</td>\n",
       "      <td>87439.9</td>\n",
       "      <td>...</td>\n",
       "      <td>-238920.56</td>\n",
       "      <td>2723.13</td>\n",
       "      <td>36540.16</td>\n",
       "      <td>-205103.53</td>\n",
       "      <td>5513</td>\n",
       "      <td>0</td>\n",
       "      <td>15974.05</td>\n",
       "      <td>79053.91</td>\n",
       "      <td>1434298.34</td>\n",
       "      <td>1513352.25</td>\n",
       "    </tr>\n",
       "  </tbody>\n",
       "</table>\n",
       "<p>1 rows × 47 columns</p>\n",
       "</div>"
      ],
      "text/plain": [
       "  stock_code   period        rpt_type         매출액        매출원가      매출총이익  \\\n",
       "0     005930  2022/03  CONSOLIDATED_Q  2919977.94  1719834.14  1200143.8   \n",
       "\n",
       "    판매비와 관리비       영업이익      금융이익     금융원가  ...  재무활동으로인한현금흐름  재무활동으로인한현금유입액  \\\n",
       "0  636419.83  563723.97  98067.38  87439.9  ...    -238920.56        2723.13   \n",
       "\n",
       "   (재무활동으로인한현금유출액)  기타재무활동으로인한현금흐름  영업투자재무활동기타현금흐름  연결범위변동으로인한현금의증가    환율변동효과  \\\n",
       "0         36540.16      -205103.53            5513                0  15974.05   \n",
       "\n",
       "   현금및현금성자산의증가  기초현금및현금성자산  기말현금및현금성자산  \n",
       "0     79053.91  1434298.34  1513352.25  \n",
       "\n",
       "[1 rows x 47 columns]"
      ]
     },
     "execution_count": 6,
     "metadata": {},
     "output_type": "execute_result"
    }
   ],
   "source": [
    "trailing_data"
   ]
  },
  {
   "cell_type": "markdown",
   "id": "0ff642e1",
   "metadata": {},
   "source": [
    "# 5. 종목 찾기"
   ]
  },
  {
   "cell_type": "markdown",
   "id": "5d3da5ff",
   "metadata": {},
   "source": [
    "### 종목 찾기"
   ]
  },
  {
   "cell_type": "code",
   "execution_count": 7,
   "id": "1e577ace",
   "metadata": {},
   "outputs": [],
   "source": [
    "df_factor = data # db에서 불러왔던 수정주가\n",
    "term = t"
   ]
  },
  {
   "cell_type": "code",
   "execution_count": 8,
   "id": "4b879040",
   "metadata": {},
   "outputs": [
    {
     "data": {
      "text/html": [
       "<div>\n",
       "<style scoped>\n",
       "    .dataframe tbody tr th:only-of-type {\n",
       "        vertical-align: middle;\n",
       "    }\n",
       "\n",
       "    .dataframe tbody tr th {\n",
       "        vertical-align: top;\n",
       "    }\n",
       "\n",
       "    .dataframe thead th {\n",
       "        text-align: right;\n",
       "    }\n",
       "</style>\n",
       "<table border=\"1\" class=\"dataframe\">\n",
       "  <thead>\n",
       "    <tr style=\"text-align: right;\">\n",
       "      <th></th>\n",
       "      <th>stock_code</th>\n",
       "      <th>period</th>\n",
       "      <th>open</th>\n",
       "      <th>high</th>\n",
       "      <th>low</th>\n",
       "      <th>close</th>\n",
       "      <th>volume</th>\n",
       "      <th>시가총액</th>\n",
       "      <th>상장주식수</th>\n",
       "    </tr>\n",
       "  </thead>\n",
       "  <tbody>\n",
       "    <tr>\n",
       "      <th>0</th>\n",
       "      <td>000020</td>\n",
       "      <td>2022/03</td>\n",
       "      <td>14800.0</td>\n",
       "      <td>15350.0</td>\n",
       "      <td>11250.0</td>\n",
       "      <td>13650.0</td>\n",
       "      <td>214548.0</td>\n",
       "      <td>3.812646e+11</td>\n",
       "      <td>27931470.0</td>\n",
       "    </tr>\n",
       "    <tr>\n",
       "      <th>1</th>\n",
       "      <td>000040</td>\n",
       "      <td>2022/03</td>\n",
       "      <td>867.0</td>\n",
       "      <td>1045.0</td>\n",
       "      <td>720.0</td>\n",
       "      <td>889.0</td>\n",
       "      <td>417614.0</td>\n",
       "      <td>8.546612e+10</td>\n",
       "      <td>96137368.0</td>\n",
       "    </tr>\n",
       "    <tr>\n",
       "      <th>2</th>\n",
       "      <td>000050</td>\n",
       "      <td>2022/03</td>\n",
       "      <td>13750.0</td>\n",
       "      <td>16000.0</td>\n",
       "      <td>13400.0</td>\n",
       "      <td>15950.0</td>\n",
       "      <td>42169.0</td>\n",
       "      <td>4.372736e+11</td>\n",
       "      <td>27415270.0</td>\n",
       "    </tr>\n",
       "    <tr>\n",
       "      <th>3</th>\n",
       "      <td>000060</td>\n",
       "      <td>2022/03</td>\n",
       "      <td>33300.0</td>\n",
       "      <td>53500.0</td>\n",
       "      <td>33300.0</td>\n",
       "      <td>47450.0</td>\n",
       "      <td>298202.0</td>\n",
       "      <td>5.723656e+12</td>\n",
       "      <td>120625000.0</td>\n",
       "    </tr>\n",
       "    <tr>\n",
       "      <th>4</th>\n",
       "      <td>000070</td>\n",
       "      <td>2022/03</td>\n",
       "      <td>98300.0</td>\n",
       "      <td>99000.0</td>\n",
       "      <td>79900.0</td>\n",
       "      <td>86100.0</td>\n",
       "      <td>13667.0</td>\n",
       "      <td>7.373837e+11</td>\n",
       "      <td>8564271.0</td>\n",
       "    </tr>\n",
       "    <tr>\n",
       "      <th>...</th>\n",
       "      <td>...</td>\n",
       "      <td>...</td>\n",
       "      <td>...</td>\n",
       "      <td>...</td>\n",
       "      <td>...</td>\n",
       "      <td>...</td>\n",
       "      <td>...</td>\n",
       "      <td>...</td>\n",
       "      <td>...</td>\n",
       "    </tr>\n",
       "    <tr>\n",
       "      <th>778</th>\n",
       "      <td>402340</td>\n",
       "      <td>2022/03</td>\n",
       "      <td>66900.0</td>\n",
       "      <td>70500.0</td>\n",
       "      <td>49050.0</td>\n",
       "      <td>56800.0</td>\n",
       "      <td>635073.0</td>\n",
       "      <td>8.035358e+12</td>\n",
       "      <td>141467571.0</td>\n",
       "    </tr>\n",
       "    <tr>\n",
       "      <th>779</th>\n",
       "      <td>404990</td>\n",
       "      <td>2022/03</td>\n",
       "      <td>5000.0</td>\n",
       "      <td>5160.0</td>\n",
       "      <td>4705.0</td>\n",
       "      <td>5120.0</td>\n",
       "      <td>410552.0</td>\n",
       "      <td>2.864941e+11</td>\n",
       "      <td>55955884.0</td>\n",
       "    </tr>\n",
       "    <tr>\n",
       "      <th>780</th>\n",
       "      <td>417310</td>\n",
       "      <td>2022/03</td>\n",
       "      <td>5260.0</td>\n",
       "      <td>5590.0</td>\n",
       "      <td>5260.0</td>\n",
       "      <td>5580.0</td>\n",
       "      <td>565297.0</td>\n",
       "      <td>2.254320e+11</td>\n",
       "      <td>40400000.0</td>\n",
       "    </tr>\n",
       "    <tr>\n",
       "      <th>781</th>\n",
       "      <td>900140</td>\n",
       "      <td>2022/03</td>\n",
       "      <td>3740.0</td>\n",
       "      <td>3740.0</td>\n",
       "      <td>3025.0</td>\n",
       "      <td>3415.0</td>\n",
       "      <td>270314.0</td>\n",
       "      <td>3.396398e+11</td>\n",
       "      <td>99455297.0</td>\n",
       "    </tr>\n",
       "    <tr>\n",
       "      <th>782</th>\n",
       "      <td>950210</td>\n",
       "      <td>2022/03</td>\n",
       "      <td>20900.0</td>\n",
       "      <td>22500.0</td>\n",
       "      <td>12850.0</td>\n",
       "      <td>20300.0</td>\n",
       "      <td>511003.0</td>\n",
       "      <td>1.219952e+12</td>\n",
       "      <td>60096155.0</td>\n",
       "    </tr>\n",
       "  </tbody>\n",
       "</table>\n",
       "<p>783 rows × 9 columns</p>\n",
       "</div>"
      ],
      "text/plain": [
       "    stock_code   period     open     high      low    close    volume  \\\n",
       "0       000020  2022/03  14800.0  15350.0  11250.0  13650.0  214548.0   \n",
       "1       000040  2022/03    867.0   1045.0    720.0    889.0  417614.0   \n",
       "2       000050  2022/03  13750.0  16000.0  13400.0  15950.0   42169.0   \n",
       "3       000060  2022/03  33300.0  53500.0  33300.0  47450.0  298202.0   \n",
       "4       000070  2022/03  98300.0  99000.0  79900.0  86100.0   13667.0   \n",
       "..         ...      ...      ...      ...      ...      ...       ...   \n",
       "778     402340  2022/03  66900.0  70500.0  49050.0  56800.0  635073.0   \n",
       "779     404990  2022/03   5000.0   5160.0   4705.0   5120.0  410552.0   \n",
       "780     417310  2022/03   5260.0   5590.0   5260.0   5580.0  565297.0   \n",
       "781     900140  2022/03   3740.0   3740.0   3025.0   3415.0  270314.0   \n",
       "782     950210  2022/03  20900.0  22500.0  12850.0  20300.0  511003.0   \n",
       "\n",
       "             시가총액        상장주식수  \n",
       "0    3.812646e+11   27931470.0  \n",
       "1    8.546612e+10   96137368.0  \n",
       "2    4.372736e+11   27415270.0  \n",
       "3    5.723656e+12  120625000.0  \n",
       "4    7.373837e+11    8564271.0  \n",
       "..            ...          ...  \n",
       "778  8.035358e+12  141467571.0  \n",
       "779  2.864941e+11   55955884.0  \n",
       "780  2.254320e+11   40400000.0  \n",
       "781  3.396398e+11   99455297.0  \n",
       "782  1.219952e+12   60096155.0  \n",
       "\n",
       "[783 rows x 9 columns]"
      ]
     },
     "execution_count": 8,
     "metadata": {},
     "output_type": "execute_result"
    }
   ],
   "source": [
    "df_factor"
   ]
  },
  {
   "cell_type": "markdown",
   "id": "bfef95cf",
   "metadata": {},
   "source": [
    "### PER 값 계산"
   ]
  },
  {
   "cell_type": "code",
   "execution_count": 9,
   "id": "e134dbf6",
   "metadata": {},
   "outputs": [
    {
     "name": "stderr",
     "output_type": "stream",
     "text": [
      "100%|████████████████████████████████████████████████████████████████████████████████| 783/783 [00:16<00:00, 46.17it/s]\n"
     ]
    }
   ],
   "source": [
    "df_factor = kse.getPER(df_factor, term, server, port, user, password, db)"
   ]
  },
  {
   "cell_type": "code",
   "execution_count": 10,
   "id": "2d210355",
   "metadata": {},
   "outputs": [],
   "source": [
    "MKTCAP_top = 0.2\n",
    "n = 30\n",
    "factor_list = ['PER']"
   ]
  },
  {
   "cell_type": "code",
   "execution_count": 11,
   "id": "7e0ee075",
   "metadata": {},
   "outputs": [
    {
     "data": {
      "text/plain": [
       "['052690',\n",
       " '138040',\n",
       " '024110',\n",
       " '035250',\n",
       " '336370',\n",
       " '112610',\n",
       " '008770',\n",
       " '019170',\n",
       " '003410',\n",
       " '251270',\n",
       " '010620',\n",
       " '329180',\n",
       " '010140',\n",
       " '020560',\n",
       " '175330',\n",
       " '009540',\n",
       " '249420',\n",
       " '042660',\n",
       " '015760',\n",
       " '011200',\n",
       " '139480',\n",
       " '036460',\n",
       " '001230',\n",
       " '034730',\n",
       " '267250',\n",
       " '000880',\n",
       " '003550',\n",
       " '004020',\n",
       " '383220',\n",
       " '001040']"
      ]
     },
     "execution_count": 11,
     "metadata": {},
     "output_type": "execute_result"
    }
   ],
   "source": [
    "kse.stock_select(df_factor, MKTCAP_top, n, factor_list)"
   ]
  },
  {
   "cell_type": "markdown",
   "id": "a01bcde7",
   "metadata": {},
   "source": [
    "### PBR 값 계산"
   ]
  },
  {
   "cell_type": "code",
   "execution_count": 12,
   "id": "db888206",
   "metadata": {},
   "outputs": [
    {
     "name": "stderr",
     "output_type": "stream",
     "text": [
      "100%|████████████████████████████████████████████████████████████████████████████████| 783/783 [00:15<00:00, 51.13it/s]\n"
     ]
    }
   ],
   "source": [
    "df_factor = kse.getPBR(df_factor, term, server, port, user, password, db)"
   ]
  },
  {
   "cell_type": "code",
   "execution_count": 13,
   "id": "c7162332",
   "metadata": {},
   "outputs": [],
   "source": [
    "MKTCAP_top = 0.2\n",
    "n = 30\n",
    "factor_list = ['PBR']"
   ]
  },
  {
   "cell_type": "code",
   "execution_count": 14,
   "id": "67109471",
   "metadata": {},
   "outputs": [
    {
     "data": {
      "text/plain": [
       "['000880',\n",
       " '001040',\n",
       " '000150',\n",
       " '267250',\n",
       " '023530',\n",
       " '015760',\n",
       " '034730',\n",
       " '139480',\n",
       " '004020',\n",
       " '069960',\n",
       " '006260',\n",
       " '004990',\n",
       " '036460',\n",
       " '004170',\n",
       " '005490',\n",
       " '005380',\n",
       " '402340',\n",
       " '011170',\n",
       " '003550',\n",
       " '011210',\n",
       " '097950',\n",
       " '034220',\n",
       " '161390',\n",
       " '029780',\n",
       " '006800',\n",
       " '009540',\n",
       " '001230',\n",
       " '005940',\n",
       " '002790',\n",
       " '000720']"
      ]
     },
     "execution_count": 14,
     "metadata": {},
     "output_type": "execute_result"
    }
   ],
   "source": [
    "kse.stock_select(df_factor, MKTCAP_top, n, factor_list)"
   ]
  },
  {
   "cell_type": "markdown",
   "id": "532752b0",
   "metadata": {},
   "source": [
    "### PER, PBR"
   ]
  },
  {
   "cell_type": "code",
   "execution_count": 15,
   "id": "d910fef6",
   "metadata": {},
   "outputs": [],
   "source": [
    "MKTCAP_top = 0.2\n",
    "n = 30\n",
    "factor_list = ['PER', 'PBR']"
   ]
  },
  {
   "cell_type": "code",
   "execution_count": 16,
   "id": "51b90eba",
   "metadata": {},
   "outputs": [
    {
     "data": {
      "text/plain": [
       "['052690',\n",
       " '035250',\n",
       " '112610',\n",
       " '336370',\n",
       " '008770',\n",
       " '019170',\n",
       " '003410',\n",
       " '251270',\n",
       " '010620',\n",
       " '329180',\n",
       " '010140',\n",
       " '009540',\n",
       " '175330',\n",
       " '015760',\n",
       " '139480',\n",
       " '034730',\n",
       " '000880',\n",
       " '036460',\n",
       " '267250',\n",
       " '001230',\n",
       " '001040',\n",
       " '004020',\n",
       " '003550',\n",
       " '042660',\n",
       " '020560',\n",
       " '006260',\n",
       " '011200',\n",
       " '005490',\n",
       " '004170',\n",
       " '402340']"
      ]
     },
     "execution_count": 16,
     "metadata": {},
     "output_type": "execute_result"
    }
   ],
   "source": [
    "kse.stock_select(df_factor, MKTCAP_top, n, factor_list)"
   ]
  },
  {
   "cell_type": "code",
   "execution_count": null,
   "id": "eff97926",
   "metadata": {},
   "outputs": [],
   "source": []
  }
 ],
 "metadata": {
  "kernelspec": {
   "display_name": "Python 3.8.5 ('base')",
   "language": "python",
   "name": "python3"
  },
  "language_info": {
   "codemirror_mode": {
    "name": "ipython",
    "version": 3
   },
   "file_extension": ".py",
   "mimetype": "text/x-python",
   "name": "python",
   "nbconvert_exporter": "python",
   "pygments_lexer": "ipython3",
   "version": "3.8.5"
  },
  "vscode": {
   "interpreter": {
    "hash": "323fb086bffc66770b92fadba8d415578309542e95c2168c45518f342a9ac971"
   }
  }
 },
 "nbformat": 4,
 "nbformat_minor": 5
}
